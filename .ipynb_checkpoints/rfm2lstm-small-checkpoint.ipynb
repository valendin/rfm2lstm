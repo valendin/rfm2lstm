{
 "cells": [
  {
   "cell_type": "markdown",
   "metadata": {},
   "source": [
    "# Predicting Customer Behavior with LSTM"
   ]
  },
  {
   "cell_type": "markdown",
   "metadata": {},
   "source": [
    "This notebook contains an example implementation of the customer event sequence-to-sequence model as described in the paper \"From RFM to LSTM: Recurrent Neural Networks for Predicting Customer Behavior\" [Valendin et al. 2020].\n",
    "\n",
    "The banking data was taken from https://data.world/lpetrocelli/czech-financial-dataset-real-anonymized-transactions (free account required). In this demo, we will only be using the transaction records, originally found in the trans.csv file from the dataset, also available here in the github repository.\n",
    "\n",
    "This code is not a demonstration of the latest tools offered by the Tensorflow & Keras libraries, it's more of a step by step low level implementation of the model which shows all the details necessary.\n",
    "\n",
    "In Ubuntu linux (tested with 16.04 or 18.04), this is how you prepare a conda environment (called \"tf\" in this example) in order to run this notebook (tested with conda 4.8.0): \n",
    "\n",
    "conda create -y -n tf python==3.8.3\n",
    "pip install pandas numpy tqdm tensorflow tensorflow-addons tensorflow-probability matplotlib IPython jupyter pydot graphviz"
   ]
  },
  {
   "cell_type": "code",
   "execution_count": 1,
   "metadata": {},
   "outputs": [],
   "source": [
    "import random\n",
    "import datetime\n",
    "import tensorflow as tf\n",
    "import tensorflow_probability as tfp\n",
    "import tensorflow_addons as tfa\n",
    "import numpy as np\n",
    "import pandas as pd\n",
    "import matplotlib.pyplot as plt\n",
    "import tensorflow.keras.backend as K\n",
    "from os import cpu_count as core_count\n",
    "from tqdm.auto import tqdm\n",
    "from pandas.plotting import register_matplotlib_converters\n",
    "register_matplotlib_converters()\n",
    "\n",
    "# physical_devices = tf.config.list_physical_devices('GPU')\n",
    "# tf.config.experimental.set_memory_growth(physical_devices[0], enable=True)\n",
    "\n",
    "# load the data from the source file\n",
    "# we only need the account_id (a primary key, customer identifier) and the date columns\n",
    "# we also convert the date column from strings like \"930101\" into a proper datetime format\n",
    "# To simplify the task, only consider 1 transaction per day (drop duplicates)\n",
    "\n",
    "df = pd.read_csv(filepath_or_buffer='trans.zip', \n",
    "                 usecols=['account_id', 'date'],\n",
    "                 parse_dates=['date'])"
   ]
  },
  {
   "cell_type": "code",
   "execution_count": 2,
   "metadata": {},
   "outputs": [
    {
     "data": {
      "text/plain": [
       "(Timestamp('1998-12-31 00:00:00'), Timestamp('1993-01-01 00:00:00'))"
      ]
     },
     "execution_count": 2,
     "metadata": {},
     "output_type": "execute_result"
    }
   ],
   "source": [
    "max(df['date']), min(df['date'])"
   ]
  },
  {
   "cell_type": "code",
   "execution_count": 3,
   "metadata": {},
   "outputs": [
    {
     "name": "stdout",
     "output_type": "stream",
     "text": [
      "Number of transactions: 1056320\n",
      "Number of accounts:     4500\n"
     ]
    },
    {
     "data": {
      "image/png": "[encoded data removed]",
      "text/plain": [
       "<Figure size 1008x360 with 1 Axes>"
      ]
     },
     "metadata": {
      "needs_background": "light"
     },
     "output_type": "display_data"
    },
    {
     "data": {
      "image/png": "[encoded data removed]",
      "text/plain": [
       "<Figure size 1008x360 with 1 Axes>"
      ]
     },
     "metadata": {
      "needs_background": "light"
     },
     "output_type": "display_data"
    }
   ],
   "source": [
    "# display an overview of the dataset\n",
    "\n",
    "print(f\"Number of transactions: {len(df)}\")\n",
    "print(f\"Number of accounts:     {len(df['account_id'].unique())}\")\n",
    "\n",
    "plt.figure(figsize=(14,5))\n",
    "plt.hist(df.date, bins=250)\n",
    "plt.title('Retail Bank Transaction - Overview')\n",
    "plt.show()\n",
    "\n",
    "# display an plot of transaction count per customer distribution\n",
    "\n",
    "transactions_per_account = list(df.groupby('account_id').count()['date'])\n",
    "\n",
    "plt.figure(figsize=(14,5))\n",
    "plt.hist(transactions_per_account, bins=250)\n",
    "plt.title('Transaction counts per account histogram')\n",
    "plt.show()"
   ]
  },
  {
   "cell_type": "code",
   "execution_count": 4,
   "metadata": {},
   "outputs": [],
   "source": [
    "# setup the training and holdout period\n",
    "# we will be using 3 years as calibration, to predict the following 3 years\n",
    "\n",
    "training_start = '1993-01-01'\n",
    "training_end   = '1997-12-31'\n",
    "holdout_start  = '1998-01-01'\n",
    "holdout_end    = '1998-12-31'\n",
    "date_format    = '%Y-%m-%d'"
   ]
  },
  {
   "cell_type": "markdown",
   "metadata": {},
   "source": [
    "# data preparation"
   ]
  },
  {
   "cell_type": "code",
   "execution_count": 5,
   "metadata": {},
   "outputs": [],
   "source": [
    "# prepare an \"empty\" template dataframe \n",
    "# to be filled with each customer's data\n",
    "\n",
    "# generate a list of dates between two dates\n",
    "def date_range(start, end):\n",
    "    start = datetime.datetime.strptime(start, date_format)\n",
    "    end = datetime.datetime.strptime(end, date_format)\n",
    "    r = (end+datetime.timedelta(days=1)-start).days\n",
    "    return [start+datetime.timedelta(days=i) for i in range(r)]\n",
    "\n",
    "ed = pd.DataFrame(date_range(training_start, holdout_end), columns={'date'})\n",
    "\n",
    "# we subtract 1 here so that the values range from 0 to max-1\n",
    "ed['year'] = ed['date'].dt.year - 1\n",
    "ed['month'] = ed['date'].dt.month - 1\n",
    "ed['week'] = ed['date'].dt.week - 1\n",
    "\n",
    "# save the holdout calendar for later use during prediction\n",
    "holdout_calendar = ed[ed['date'] >= holdout_start].drop(columns=['date']).drop_duplicates().drop(columns=['year'])"
   ]
  },
  {
   "cell_type": "code",
   "execution_count": 6,
   "metadata": {},
   "outputs": [
    {
     "data": {
      "application/vnd.jupyter.widget-view+json": {
       "model_id": "202401f280b74f46a6c8d8ff699bf443",
       "version_major": 2,
       "version_minor": 0
      },
      "text/plain": [
       "HBox(children=(FloatProgress(value=0.0, description='preparing dataset', max=4500.0, style=ProgressStyle(descr…"
      ]
     },
     "metadata": {},
     "output_type": "display_data"
    },
    {
     "name": "stdout",
     "output_type": "stream",
     "text": [
      "\n"
     ]
    }
   ],
   "source": [
    "# samples are training inputs\n",
    "# targets are training labels\n",
    "# calibration is stored for later use in prediction\n",
    "# holdout is data not used in training\n",
    "samples, targets, calibration, holdout = [], [], [], []\n",
    "# total transaction count across all individuals\n",
    "trans = 0\n",
    "max_trans_per_week = 0\n",
    "max_trans_cust = []\n",
    "\n",
    "# shuffle data randomly\n",
    "ids = df['account_id'].unique()\n",
    "random.shuffle(ids)\n",
    "\n",
    "# build a complete record for each customer\n",
    "for account in tqdm(ids, desc='preparing dataset'):\n",
    "    # take the subset of data related to each user, \n",
    "    subset = df.query('account_id == @account').groupby(\n",
    "        ['date']).count().reset_index()\n",
    "    user = subset.copy(deep=True)\n",
    "    user = user.rename(columns={'account_id': 'transactions'})\n",
    "    # grab a copy of the empty frame template\n",
    "    frame = ed.copy(deep=True)\n",
    "    # insert customer ID\n",
    "    frame['account_id'] = account\n",
    "    # merge customer data into the empty frame\n",
    "    frame = frame.merge(user, on=['date'], how='left')\n",
    "    # aggregate weekly transactions\n",
    "    frame = frame.groupby(['year', 'month', 'week']).agg(\n",
    "        {'transactions': 'sum', \n",
    "         'date': 'min'}).sort_values(['date']).reset_index()\n",
    "    # there is a tiny number of cases with 7 transactions per week\n",
    "    # to make the job easier for the model, we clip the value at 6\n",
    "    # frame['transactions'] = frame['transactions'].clip(upper=6)\n",
    "    max_trans = max(frame['transactions'])\n",
    "    max_trans_per_week = max(max_trans_per_week, max_trans)\n",
    "    max_trans_cust.append(max_trans)\n",
    "    # keep a running count of the total transactions\n",
    "    trans += user['transactions'].sum()\n",
    "    # training sequences of everything until the holdout period\n",
    "    training = frame[frame['date'] < holdout_start]\n",
    "    training = training.drop(columns=['date', 'year'])\n",
    "    # store for later use\n",
    "    calibration.append(training)\n",
    "    # training sample: calibration sequence sans the final element\n",
    "    sample = training[:-1].values\n",
    "    samples.append(sample)\n",
    "    # target labels: sequence of transaction counts starting \n",
    "    #  with the 2nd element. At each step of the training\n",
    "    #  we use a row from the train_samples element as our input, \n",
    "    #  and predict the corresponding element from train_targets\n",
    "    target = training.loc[1:, 'transactions'].values\n",
    "    targets.append(target)\n",
    "    # keep holdout sequence to compare with predictions\n",
    "    hold = frame[frame['date'] >= holdout_start]\n",
    "    hold = hold.drop(columns='date')\n",
    "    holdout.append(hold)\n",
    "       \n",
    "# check that we didn't lose any transactions along the way\n",
    "assert trans == len(df)"
   ]
  },
  {
   "cell_type": "code",
   "execution_count": 7,
   "metadata": {},
   "outputs": [
    {
     "data": {
      "text/plain": [
       "12.0"
      ]
     },
     "execution_count": 7,
     "metadata": {},
     "output_type": "execute_result"
    }
   ],
   "source": [
    "max_trans_per_week"
   ]
  },
  {
   "cell_type": "code",
   "execution_count": 8,
   "metadata": {},
   "outputs": [
    {
     "ename": "NameError",
     "evalue": "name 'stop' is not defined",
     "output_type": "error",
     "traceback": [
      "\u001b[0;31m---------------------------------------------------------------------------\u001b[0m",
      "\u001b[0;31mNameError\u001b[0m                                 Traceback (most recent call last)",
      "\u001b[0;32m<ipython-input-8-4f76a9dad686>\u001b[0m in \u001b[0;36m<module>\u001b[0;34m\u001b[0m\n\u001b[0;32m----> 1\u001b[0;31m \u001b[0mstop\u001b[0m\u001b[0;34m\u001b[0m\u001b[0;34m\u001b[0m\u001b[0m\n\u001b[0m",
      "\u001b[0;31mNameError\u001b[0m: name 'stop' is not defined"
     ]
    }
   ],
   "source": [
    "stop"
   ]
  },
  {
   "cell_type": "code",
   "execution_count": 9,
   "metadata": {},
   "outputs": [],
   "source": [
    "# # create a validation set which won't be used in training\n",
    "# # we've already shuffled the data so we just grab the tail end\n",
    "# # of the list for validation, the rest is the training set\n",
    "VALIDATION_SPLIT = 0.1\n",
    "validation_size = round(len(samples) * VALIDATION_SPLIT)\n",
    "valid_samples, valid_targets = samples[-validation_size:], targets[-validation_size:]\n",
    "train_samples, train_targets = samples[:-validation_size], targets[:-validation_size]"
   ]
  },
  {
   "cell_type": "code",
   "execution_count": 10,
   "metadata": {
    "scrolled": true
   },
   "outputs": [],
   "source": [
    "def decode_sample(sample, target):\n",
    "    return ({'month'      : tf.cast(tf.expand_dims(sample[:, 0], axis=-1), 'int32'), \n",
    "             'week'       : tf.cast(tf.expand_dims(sample[:, 1], axis=-1), 'int32'), \n",
    "             'transaction': tf.cast(tf.expand_dims(sample[:, 2], axis=-1), 'int32')},\n",
    "             tf.cast(tf.expand_dims(target, axis=-1), 'int32'))\n",
    "\n",
    "# number of samples in each dataset\n",
    "no_train_samples, no_valid_samples = len(train_samples), len(valid_samples)\n",
    "\n",
    "# batch size is the number of samples used to calculate\n",
    "# the loss gradient at each step during the training\n",
    "BATCH_SIZE_TRAIN = 48   # default hyperparameter value\n",
    "BATCH_SIZE_PRED = 250   # for prediction this doesn't matter appart from memory constraint\n",
    "BATCH_SIZE_VALID = no_valid_samples # validation loss calculated in one step\n",
    "BATCH_SIZE_FINETUNE = 128\n",
    "\n",
    "# lenght of each training sequence:\n",
    "seq_len = samples[0].shape[0]\n",
    "\n",
    "train_dataset = (tf.data.Dataset.from_tensor_slices((train_samples, train_targets))\n",
    "                .map(decode_sample)\n",
    "                .batch(BATCH_SIZE_TRAIN)\n",
    "                .repeat())\n",
    "\n",
    "valid_dataset = (tf.data.Dataset.from_tensor_slices((valid_samples, valid_targets))\n",
    "                 .map(decode_sample).batch(BATCH_SIZE_VALID).repeat())\n",
    "\n",
    "all_dataset = (tf.data.Dataset.from_tensor_slices((train_samples+valid_samples, train_targets+valid_targets))\n",
    "                .map(decode_sample)\n",
    "                .batch(BATCH_SIZE_FINETUNE)\n",
    "                .repeat())"
   ]
  },
  {
   "cell_type": "code",
   "execution_count": 11,
   "metadata": {},
   "outputs": [],
   "source": [
    "# train_dataset.__iter__().get_next()"
   ]
  },
  {
   "cell_type": "markdown",
   "metadata": {},
   "source": [
    "# building the model"
   ]
  },
  {
   "cell_type": "code",
   "execution_count": 12,
   "metadata": {},
   "outputs": [],
   "source": [
    "# now let's build the neural network model\n",
    "# first we need to import a bunch of building blocks\n",
    "\n",
    "from tensorflow.keras import Model\n",
    "from tensorflow.keras.layers import Input, Embedding, LSTM, Dense, Concatenate, Lambda"
   ]
  },
  {
   "cell_type": "code",
   "execution_count": 13,
   "metadata": {},
   "outputs": [],
   "source": [
    "# cardinalities of input features\n",
    "max_month = 12\n",
    "max_week = 53\n",
    "\n",
    "# add 1 here since 0 is also a valid weekly transaction count\n",
    "max_trans = int(max_trans_per_week) + 1  \n",
    "\n",
    "# number of units in the memory layer\n",
    "memory_units_A = 128\n",
    "memory_units_B = 0\n",
    "\n",
    "# number of units in the dense layer(s)\n",
    "dense_units_A = 128\n",
    "dense_units_B = 0\n",
    "dense_units_C = 0\n",
    "\n",
    "dense_activation = 'relu'\n",
    "train_learn_rate = 1.0e-3\n",
    "train_clip_norm = 0.8\n",
    "lookahead_sync_period = 5\n",
    "lookahead_step_size = 0.5\n",
    "\n",
    "def emb_size(feature_max: int):\n",
    "    \"\"\" A simple heuristic to determine embedding layer size\"\"\"\n",
    "    return int(np.ceil(feature_max ** 0.5) + 1)\n",
    "\n",
    "\"\"\" input layers map directly to the features from \n",
    "    the input data: month, week, transactions \"\"\"\n",
    "input_month = Input(shape=(seq_len, 1), name='month')\n",
    "input_week = Input(shape=(seq_len, 1), name='week')\n",
    "input_transactions = Input(shape=(seq_len, 1), name='transaction')\n",
    "\n",
    "\"\"\" embedding layers compress signal into a dense real-valued \n",
    "    vector representation. This helps the model extract useful \n",
    "    signals from the input features \"\"\"\n",
    "embedding_month = Embedding(max_month, emb_size(max_month), name='embed_month')\n",
    "embedding_week = Embedding(max_week, emb_size(max_week), name='embed_week')\n",
    "embedding_transactions = Embedding(max_trans, emb_size(max_trans), name='embed_trans')\n",
    "\n",
    "# a simple layer that concatenates a list of vectors\n",
    "concat = Concatenate(axis=-1, name='concat')\n",
    "# a simple layer that removes a dimension from data tensor \n",
    "#  this is needed because the embedding layers introduce \n",
    "#  an extra dimension (of size 1), which we do not need\n",
    "squeeze = Lambda(lambda x: K.squeeze(x, axis=-2), name='squeeze')\n",
    "\n",
    "\"\"\" the LSTM serves as the 'memory' of the model\n",
    "    we define separate LSTM layers for training and prediction models\n",
    "    'stateful' LSTM keeps the internal state (memory) until explicitly deleted\n",
    "    'state-less' LSTM forgets everything after each batch of samples is processed \"\"\"\n",
    "training_memory_layer_A = LSTM(memory_units_A, return_sequences=True, stateful=False, name='lstm_a')\n",
    "training_memory_layer_B = LSTM(memory_units_B, return_sequences=True, stateful=False, name='lstm_b')\n",
    "\n",
    "\"\"\" Dense layers add non-linear compute capacity to the model \"\"\"\n",
    "dense_1 = Dense(dense_units_A, activation=dense_activation, name='dense_a')\n",
    "dense_2 = Dense(dense_units_B, activation=dense_activation, name='dense_b')\n",
    "dense_3 = Dense(dense_units_C, activation=dense_activation, name='dense_c')\n",
    "\n",
    "\"\"\" The final output layer is a softmax prediction layer where\n",
    "    each neuron represents the probability predicting a given \n",
    "    transaction count \"\"\"\n",
    "dense_out = Dense(max_trans, activation='softmax', name='softmax')"
   ]
  },
  {
   "cell_type": "code",
   "execution_count": 14,
   "metadata": {},
   "outputs": [],
   "source": [
    "# now we assemble the layers into a complete Model\n",
    "# first step is to connect the embedding layers with the inputs\n",
    "emb_month = embedding_month(input_month)\n",
    "emb_week = embedding_week(input_week)\n",
    "emb_trans = embedding_transactions(input_transactions)\n",
    "\n",
    "# we also squeeze out a superfluous dimension from the tensor\n",
    "emb_month = squeeze(emb_month)\n",
    "emb_week = squeeze(emb_week)\n",
    "emb_trans = squeeze(emb_trans)\n",
    "\n",
    "# now we combine embedded vectors into a single long vector\n",
    "output = concat([emb_month, emb_week, emb_trans])\n",
    "\n",
    "# pass the result to the memory layer(s)\n",
    "output = training_memory_layer_A(output)\n",
    "if memory_units_B > 0:\n",
    "    output = training_memory_layer_B(output)\n",
    "\n",
    "# feed-forward through the dense layer(s)\n",
    "output = dense_1(output)\n",
    "if dense_units_B > 0:\n",
    "    output = dense_2(output)\n",
    "if dense_units_C > 0:\n",
    "    output = dense_3(output)\n",
    "\n",
    "# final softmax layer\n",
    "output = dense_out(output)\n",
    "\n",
    "# build the training model\n",
    "training_inputs = [input_month, input_week, input_transactions]\n",
    "model_train = Model(training_inputs, output)"
   ]
  },
  {
   "cell_type": "code",
   "execution_count": 15,
   "metadata": {},
   "outputs": [
    {
     "name": "stdout",
     "output_type": "stream",
     "text": [
      "Model: \"model\"\n",
      "__________________________________________________________________________________________________\n",
      "Layer (type)                    Output Shape         Param #     Connected to                     \n",
      "==================================================================================================\n",
      "month (InputLayer)              [(None, 310, 1)]     0                                            \n",
      "__________________________________________________________________________________________________\n",
      "week (InputLayer)               [(None, 310, 1)]     0                                            \n",
      "__________________________________________________________________________________________________\n",
      "transaction (InputLayer)        [(None, 310, 1)]     0                                            \n",
      "__________________________________________________________________________________________________\n",
      "embed_month (Embedding)         (None, 310, 1, 5)    60          month[0][0]                      \n",
      "__________________________________________________________________________________________________\n",
      "embed_week (Embedding)          (None, 310, 1, 9)    477         week[0][0]                       \n",
      "__________________________________________________________________________________________________\n",
      "embed_trans (Embedding)         (None, 310, 1, 5)    65          transaction[0][0]                \n",
      "__________________________________________________________________________________________________\n",
      "squeeze (Lambda)                multiple             0           embed_month[0][0]                \n",
      "                                                                 embed_week[0][0]                 \n",
      "                                                                 embed_trans[0][0]                \n",
      "__________________________________________________________________________________________________\n",
      "concat (Concatenate)            (None, 310, 19)      0           squeeze[0][0]                    \n",
      "                                                                 squeeze[1][0]                    \n",
      "                                                                 squeeze[2][0]                    \n",
      "__________________________________________________________________________________________________\n",
      "lstm_a (LSTM)                   (None, 310, 128)     75776       concat[0][0]                     \n",
      "__________________________________________________________________________________________________\n",
      "dense_a (Dense)                 (None, 310, 128)     16512       lstm_a[0][0]                     \n",
      "__________________________________________________________________________________________________\n",
      "softmax (Dense)                 (None, 310, 13)      1677        dense_a[0][0]                    \n",
      "==================================================================================================\n",
      "Total params: 94,567\n",
      "Trainable params: 94,567\n",
      "Non-trainable params: 0\n",
      "__________________________________________________________________________________________________\n"
     ]
    }
   ],
   "source": [
    "model_train.summary()"
   ]
  },
  {
   "cell_type": "markdown",
   "metadata": {},
   "source": [
    "# training the model"
   ]
  },
  {
   "cell_type": "code",
   "execution_count": 16,
   "metadata": {},
   "outputs": [],
   "source": [
    "# here we define the loss function, the optimizer method\n",
    "from tensorflow.keras.losses import sparse_categorical_crossentropy\n",
    "from tensorflow.keras.optimizers import Adam, RMSprop\n",
    "# from tensorflow_addons.optimizers import NovoGrad\n",
    "\n",
    "optimizer=Adam(learning_rate=train_learn_rate, clipnorm=train_clip_norm)\n",
    "\n",
    "optimizer = tfa.optimizers.Lookahead(\n",
    "    optimizer, sync_period=lookahead_sync_period, slow_step_size=lookahead_step_size)\n",
    "\n",
    "model_train.compile(loss=sparse_categorical_crossentropy, optimizer=optimizer)"
   ]
  },
  {
   "cell_type": "code",
   "execution_count": 17,
   "metadata": {},
   "outputs": [],
   "source": [
    "# callbacks are helper functions that control the training flow\n",
    "from tensorflow.keras.callbacks import EarlyStopping, ModelCheckpoint\n",
    "\n",
    "model_weights_filename = 'model_weights.hdf5'\n",
    "\n",
    "callbacks = [\n",
    "            # monitor the validation loss and stop training after\n",
    "            # 'patience' number of epochs during which there is\n",
    "            # no improvement whatsoever, then restore model weights\n",
    "            # from the very best epoch afterwards (epoch with the \n",
    "            # lowest validation loss\n",
    "            EarlyStopping(\n",
    "                monitor='val_loss',\n",
    "                min_delta=0.,\n",
    "                restore_best_weights=True,\n",
    "                patience=5,\n",
    "                verbose=1,\n",
    "                mode=\"auto\",\n",
    "            ),\n",
    "            # save model parameters to file whenever the model \n",
    "            # improves (val_loss decreases)\n",
    "            ModelCheckpoint(\n",
    "                model_weights_filename,\n",
    "                monitor='val_loss',\n",
    "                save_best_only=True,\n",
    "                save_weights_only=True,\n",
    "            )\n",
    "            ]"
   ]
  },
  {
   "cell_type": "code",
   "execution_count": 18,
   "metadata": {
    "scrolled": true
   },
   "outputs": [
    {
     "name": "stdout",
     "output_type": "stream",
     "text": [
      "Epoch 1/150\n",
      "WARNING:tensorflow:From /home/jan/.conda/envs/tf/lib/python3.8/site-packages/tensorflow/python/ops/resource_variable_ops.py:1813: calling BaseResourceVariable.__init__ (from tensorflow.python.ops.resource_variable_ops) with constraint is deprecated and will be removed in a future version.\n",
      "Instructions for updating:\n",
      "If using Keras pass *_constraint arguments to layers.\n",
      "19/84 [=====>........................] - ETA: 17s - loss: 2.1610"
     ]
    },
    {
     "ename": "KeyboardInterrupt",
     "evalue": "",
     "output_type": "error",
     "traceback": [
      "\u001b[0;31m---------------------------------------------------------------------------\u001b[0m",
      "\u001b[0;31mKeyboardInterrupt\u001b[0m                         Traceback (most recent call last)",
      "\u001b[0;32m<ipython-input-18-97c45d8b077f>\u001b[0m in \u001b[0;36m<module>\u001b[0;34m\u001b[0m\n\u001b[1;32m      5\u001b[0m \u001b[0mMAX_EPOCHS\u001b[0m \u001b[0;34m=\u001b[0m \u001b[0;36m150\u001b[0m\u001b[0;34m\u001b[0m\u001b[0;34m\u001b[0m\u001b[0m\n\u001b[1;32m      6\u001b[0m \u001b[0;34m\u001b[0m\u001b[0m\n\u001b[0;32m----> 7\u001b[0;31m history = model_train.fit(train_dataset, \n\u001b[0m\u001b[1;32m      8\u001b[0m                           \u001b[0mepochs\u001b[0m\u001b[0;34m=\u001b[0m\u001b[0mMAX_EPOCHS\u001b[0m\u001b[0;34m,\u001b[0m\u001b[0;34m\u001b[0m\u001b[0;34m\u001b[0m\u001b[0m\n\u001b[1;32m      9\u001b[0m                           \u001b[0mverbose\u001b[0m\u001b[0;34m=\u001b[0m\u001b[0;36m1\u001b[0m\u001b[0;34m,\u001b[0m\u001b[0;34m\u001b[0m\u001b[0;34m\u001b[0m\u001b[0m\n",
      "\u001b[0;32m~/.conda/envs/tf/lib/python3.8/site-packages/tensorflow/python/keras/engine/training.py\u001b[0m in \u001b[0;36m_method_wrapper\u001b[0;34m(self, *args, **kwargs)\u001b[0m\n\u001b[1;32m     64\u001b[0m   \u001b[0;32mdef\u001b[0m \u001b[0m_method_wrapper\u001b[0m\u001b[0;34m(\u001b[0m\u001b[0mself\u001b[0m\u001b[0;34m,\u001b[0m \u001b[0;34m*\u001b[0m\u001b[0margs\u001b[0m\u001b[0;34m,\u001b[0m \u001b[0;34m**\u001b[0m\u001b[0mkwargs\u001b[0m\u001b[0;34m)\u001b[0m\u001b[0;34m:\u001b[0m\u001b[0;34m\u001b[0m\u001b[0;34m\u001b[0m\u001b[0m\n\u001b[1;32m     65\u001b[0m     \u001b[0;32mif\u001b[0m \u001b[0;32mnot\u001b[0m \u001b[0mself\u001b[0m\u001b[0;34m.\u001b[0m\u001b[0m_in_multi_worker_mode\u001b[0m\u001b[0;34m(\u001b[0m\u001b[0;34m)\u001b[0m\u001b[0;34m:\u001b[0m  \u001b[0;31m# pylint: disable=protected-access\u001b[0m\u001b[0;34m\u001b[0m\u001b[0;34m\u001b[0m\u001b[0m\n\u001b[0;32m---> 66\u001b[0;31m       \u001b[0;32mreturn\u001b[0m \u001b[0mmethod\u001b[0m\u001b[0;34m(\u001b[0m\u001b[0mself\u001b[0m\u001b[0;34m,\u001b[0m \u001b[0;34m*\u001b[0m\u001b[0margs\u001b[0m\u001b[0;34m,\u001b[0m \u001b[0;34m**\u001b[0m\u001b[0mkwargs\u001b[0m\u001b[0;34m)\u001b[0m\u001b[0;34m\u001b[0m\u001b[0;34m\u001b[0m\u001b[0m\n\u001b[0m\u001b[1;32m     67\u001b[0m \u001b[0;34m\u001b[0m\u001b[0m\n\u001b[1;32m     68\u001b[0m     \u001b[0;31m# Running inside `run_distribute_coordinator` already.\u001b[0m\u001b[0;34m\u001b[0m\u001b[0;34m\u001b[0m\u001b[0;34m\u001b[0m\u001b[0m\n",
      "\u001b[0;32m~/.conda/envs/tf/lib/python3.8/site-packages/tensorflow/python/keras/engine/training.py\u001b[0m in \u001b[0;36mfit\u001b[0;34m(self, x, y, batch_size, epochs, verbose, callbacks, validation_split, validation_data, shuffle, class_weight, sample_weight, initial_epoch, steps_per_epoch, validation_steps, validation_batch_size, validation_freq, max_queue_size, workers, use_multiprocessing)\u001b[0m\n\u001b[1;32m    846\u001b[0m                 batch_size=batch_size):\n\u001b[1;32m    847\u001b[0m               \u001b[0mcallbacks\u001b[0m\u001b[0;34m.\u001b[0m\u001b[0mon_train_batch_begin\u001b[0m\u001b[0;34m(\u001b[0m\u001b[0mstep\u001b[0m\u001b[0;34m)\u001b[0m\u001b[0;34m\u001b[0m\u001b[0;34m\u001b[0m\u001b[0m\n\u001b[0;32m--> 848\u001b[0;31m               \u001b[0mtmp_logs\u001b[0m \u001b[0;34m=\u001b[0m \u001b[0mtrain_function\u001b[0m\u001b[0;34m(\u001b[0m\u001b[0miterator\u001b[0m\u001b[0;34m)\u001b[0m\u001b[0;34m\u001b[0m\u001b[0;34m\u001b[0m\u001b[0m\n\u001b[0m\u001b[1;32m    849\u001b[0m               \u001b[0;31m# Catch OutOfRangeError for Datasets of unknown size.\u001b[0m\u001b[0;34m\u001b[0m\u001b[0;34m\u001b[0m\u001b[0;34m\u001b[0m\u001b[0m\n\u001b[1;32m    850\u001b[0m               \u001b[0;31m# This blocks until the batch has finished executing.\u001b[0m\u001b[0;34m\u001b[0m\u001b[0;34m\u001b[0m\u001b[0;34m\u001b[0m\u001b[0m\n",
      "\u001b[0;32m~/.conda/envs/tf/lib/python3.8/site-packages/tensorflow/python/eager/def_function.py\u001b[0m in \u001b[0;36m__call__\u001b[0;34m(self, *args, **kwds)\u001b[0m\n\u001b[1;32m    578\u001b[0m         \u001b[0mxla_context\u001b[0m\u001b[0;34m.\u001b[0m\u001b[0mExit\u001b[0m\u001b[0;34m(\u001b[0m\u001b[0;34m)\u001b[0m\u001b[0;34m\u001b[0m\u001b[0;34m\u001b[0m\u001b[0m\n\u001b[1;32m    579\u001b[0m     \u001b[0;32melse\u001b[0m\u001b[0;34m:\u001b[0m\u001b[0;34m\u001b[0m\u001b[0;34m\u001b[0m\u001b[0m\n\u001b[0;32m--> 580\u001b[0;31m       \u001b[0mresult\u001b[0m \u001b[0;34m=\u001b[0m \u001b[0mself\u001b[0m\u001b[0;34m.\u001b[0m\u001b[0m_call\u001b[0m\u001b[0;34m(\u001b[0m\u001b[0;34m*\u001b[0m\u001b[0margs\u001b[0m\u001b[0;34m,\u001b[0m \u001b[0;34m**\u001b[0m\u001b[0mkwds\u001b[0m\u001b[0;34m)\u001b[0m\u001b[0;34m\u001b[0m\u001b[0;34m\u001b[0m\u001b[0m\n\u001b[0m\u001b[1;32m    581\u001b[0m \u001b[0;34m\u001b[0m\u001b[0m\n\u001b[1;32m    582\u001b[0m     \u001b[0;32mif\u001b[0m \u001b[0mtracing_count\u001b[0m \u001b[0;34m==\u001b[0m \u001b[0mself\u001b[0m\u001b[0;34m.\u001b[0m\u001b[0m_get_tracing_count\u001b[0m\u001b[0;34m(\u001b[0m\u001b[0;34m)\u001b[0m\u001b[0;34m:\u001b[0m\u001b[0;34m\u001b[0m\u001b[0;34m\u001b[0m\u001b[0m\n",
      "\u001b[0;32m~/.conda/envs/tf/lib/python3.8/site-packages/tensorflow/python/eager/def_function.py\u001b[0m in \u001b[0;36m_call\u001b[0;34m(self, *args, **kwds)\u001b[0m\n\u001b[1;32m    609\u001b[0m       \u001b[0;31m# In this case we have created variables on the first call, so we run the\u001b[0m\u001b[0;34m\u001b[0m\u001b[0;34m\u001b[0m\u001b[0;34m\u001b[0m\u001b[0m\n\u001b[1;32m    610\u001b[0m       \u001b[0;31m# defunned version which is guaranteed to never create variables.\u001b[0m\u001b[0;34m\u001b[0m\u001b[0;34m\u001b[0m\u001b[0;34m\u001b[0m\u001b[0m\n\u001b[0;32m--> 611\u001b[0;31m       \u001b[0;32mreturn\u001b[0m \u001b[0mself\u001b[0m\u001b[0;34m.\u001b[0m\u001b[0m_stateless_fn\u001b[0m\u001b[0;34m(\u001b[0m\u001b[0;34m*\u001b[0m\u001b[0margs\u001b[0m\u001b[0;34m,\u001b[0m \u001b[0;34m**\u001b[0m\u001b[0mkwds\u001b[0m\u001b[0;34m)\u001b[0m  \u001b[0;31m# pylint: disable=not-callable\u001b[0m\u001b[0;34m\u001b[0m\u001b[0;34m\u001b[0m\u001b[0m\n\u001b[0m\u001b[1;32m    612\u001b[0m     \u001b[0;32melif\u001b[0m \u001b[0mself\u001b[0m\u001b[0;34m.\u001b[0m\u001b[0m_stateful_fn\u001b[0m \u001b[0;32mis\u001b[0m \u001b[0;32mnot\u001b[0m \u001b[0;32mNone\u001b[0m\u001b[0;34m:\u001b[0m\u001b[0;34m\u001b[0m\u001b[0;34m\u001b[0m\u001b[0m\n\u001b[1;32m    613\u001b[0m       \u001b[0;31m# Release the lock early so that multiple threads can perform the call\u001b[0m\u001b[0;34m\u001b[0m\u001b[0;34m\u001b[0m\u001b[0;34m\u001b[0m\u001b[0m\n",
      "\u001b[0;32m~/.conda/envs/tf/lib/python3.8/site-packages/tensorflow/python/eager/function.py\u001b[0m in \u001b[0;36m__call__\u001b[0;34m(self, *args, **kwargs)\u001b[0m\n\u001b[1;32m   2418\u001b[0m     \u001b[0;32mwith\u001b[0m \u001b[0mself\u001b[0m\u001b[0;34m.\u001b[0m\u001b[0m_lock\u001b[0m\u001b[0;34m:\u001b[0m\u001b[0;34m\u001b[0m\u001b[0;34m\u001b[0m\u001b[0m\n\u001b[1;32m   2419\u001b[0m       \u001b[0mgraph_function\u001b[0m\u001b[0;34m,\u001b[0m \u001b[0margs\u001b[0m\u001b[0;34m,\u001b[0m \u001b[0mkwargs\u001b[0m \u001b[0;34m=\u001b[0m \u001b[0mself\u001b[0m\u001b[0;34m.\u001b[0m\u001b[0m_maybe_define_function\u001b[0m\u001b[0;34m(\u001b[0m\u001b[0margs\u001b[0m\u001b[0;34m,\u001b[0m \u001b[0mkwargs\u001b[0m\u001b[0;34m)\u001b[0m\u001b[0;34m\u001b[0m\u001b[0;34m\u001b[0m\u001b[0m\n\u001b[0;32m-> 2420\u001b[0;31m     \u001b[0;32mreturn\u001b[0m \u001b[0mgraph_function\u001b[0m\u001b[0;34m.\u001b[0m\u001b[0m_filtered_call\u001b[0m\u001b[0;34m(\u001b[0m\u001b[0margs\u001b[0m\u001b[0;34m,\u001b[0m \u001b[0mkwargs\u001b[0m\u001b[0;34m)\u001b[0m  \u001b[0;31m# pylint: disable=protected-access\u001b[0m\u001b[0;34m\u001b[0m\u001b[0;34m\u001b[0m\u001b[0m\n\u001b[0m\u001b[1;32m   2421\u001b[0m \u001b[0;34m\u001b[0m\u001b[0m\n\u001b[1;32m   2422\u001b[0m   \u001b[0;34m@\u001b[0m\u001b[0mproperty\u001b[0m\u001b[0;34m\u001b[0m\u001b[0;34m\u001b[0m\u001b[0m\n",
      "\u001b[0;32m~/.conda/envs/tf/lib/python3.8/site-packages/tensorflow/python/eager/function.py\u001b[0m in \u001b[0;36m_filtered_call\u001b[0;34m(self, args, kwargs)\u001b[0m\n\u001b[1;32m   1659\u001b[0m       \u001b[0;31m`\u001b[0m\u001b[0margs\u001b[0m\u001b[0;31m`\u001b[0m \u001b[0;32mand\u001b[0m\u001b[0;31m \u001b[0m\u001b[0;31m`\u001b[0m\u001b[0mkwargs\u001b[0m\u001b[0;31m`\u001b[0m\u001b[0;34m.\u001b[0m\u001b[0;34m\u001b[0m\u001b[0;34m\u001b[0m\u001b[0m\n\u001b[1;32m   1660\u001b[0m     \"\"\"\n\u001b[0;32m-> 1661\u001b[0;31m     return self._call_flat(\n\u001b[0m\u001b[1;32m   1662\u001b[0m         (t for t in nest.flatten((args, kwargs), expand_composites=True)\n\u001b[1;32m   1663\u001b[0m          if isinstance(t, (ops.Tensor,\n",
      "\u001b[0;32m~/.conda/envs/tf/lib/python3.8/site-packages/tensorflow/python/eager/function.py\u001b[0m in \u001b[0;36m_call_flat\u001b[0;34m(self, args, captured_inputs, cancellation_manager)\u001b[0m\n\u001b[1;32m   1743\u001b[0m         and executing_eagerly):\n\u001b[1;32m   1744\u001b[0m       \u001b[0;31m# No tape is watching; skip to running the function.\u001b[0m\u001b[0;34m\u001b[0m\u001b[0;34m\u001b[0m\u001b[0;34m\u001b[0m\u001b[0m\n\u001b[0;32m-> 1745\u001b[0;31m       return self._build_call_outputs(self._inference_function.call(\n\u001b[0m\u001b[1;32m   1746\u001b[0m           ctx, args, cancellation_manager=cancellation_manager))\n\u001b[1;32m   1747\u001b[0m     forward_backward = self._select_forward_and_backward_functions(\n",
      "\u001b[0;32m~/.conda/envs/tf/lib/python3.8/site-packages/tensorflow/python/eager/function.py\u001b[0m in \u001b[0;36mcall\u001b[0;34m(self, ctx, args, cancellation_manager)\u001b[0m\n\u001b[1;32m    591\u001b[0m       \u001b[0;32mwith\u001b[0m \u001b[0m_InterpolateFunctionError\u001b[0m\u001b[0;34m(\u001b[0m\u001b[0mself\u001b[0m\u001b[0;34m)\u001b[0m\u001b[0;34m:\u001b[0m\u001b[0;34m\u001b[0m\u001b[0;34m\u001b[0m\u001b[0m\n\u001b[1;32m    592\u001b[0m         \u001b[0;32mif\u001b[0m \u001b[0mcancellation_manager\u001b[0m \u001b[0;32mis\u001b[0m \u001b[0;32mNone\u001b[0m\u001b[0;34m:\u001b[0m\u001b[0;34m\u001b[0m\u001b[0;34m\u001b[0m\u001b[0m\n\u001b[0;32m--> 593\u001b[0;31m           outputs = execute.execute(\n\u001b[0m\u001b[1;32m    594\u001b[0m               \u001b[0mstr\u001b[0m\u001b[0;34m(\u001b[0m\u001b[0mself\u001b[0m\u001b[0;34m.\u001b[0m\u001b[0msignature\u001b[0m\u001b[0;34m.\u001b[0m\u001b[0mname\u001b[0m\u001b[0;34m)\u001b[0m\u001b[0;34m,\u001b[0m\u001b[0;34m\u001b[0m\u001b[0;34m\u001b[0m\u001b[0m\n\u001b[1;32m    595\u001b[0m               \u001b[0mnum_outputs\u001b[0m\u001b[0;34m=\u001b[0m\u001b[0mself\u001b[0m\u001b[0;34m.\u001b[0m\u001b[0m_num_outputs\u001b[0m\u001b[0;34m,\u001b[0m\u001b[0;34m\u001b[0m\u001b[0;34m\u001b[0m\u001b[0m\n",
      "\u001b[0;32m~/.conda/envs/tf/lib/python3.8/site-packages/tensorflow/python/eager/execute.py\u001b[0m in \u001b[0;36mquick_execute\u001b[0;34m(op_name, num_outputs, inputs, attrs, ctx, name)\u001b[0m\n\u001b[1;32m     57\u001b[0m   \u001b[0;32mtry\u001b[0m\u001b[0;34m:\u001b[0m\u001b[0;34m\u001b[0m\u001b[0;34m\u001b[0m\u001b[0m\n\u001b[1;32m     58\u001b[0m     \u001b[0mctx\u001b[0m\u001b[0;34m.\u001b[0m\u001b[0mensure_initialized\u001b[0m\u001b[0;34m(\u001b[0m\u001b[0;34m)\u001b[0m\u001b[0;34m\u001b[0m\u001b[0;34m\u001b[0m\u001b[0m\n\u001b[0;32m---> 59\u001b[0;31m     tensors = pywrap_tfe.TFE_Py_Execute(ctx._handle, device_name, op_name,\n\u001b[0m\u001b[1;32m     60\u001b[0m                                         inputs, attrs, num_outputs)\n\u001b[1;32m     61\u001b[0m   \u001b[0;32mexcept\u001b[0m \u001b[0mcore\u001b[0m\u001b[0;34m.\u001b[0m\u001b[0m_NotOkStatusException\u001b[0m \u001b[0;32mas\u001b[0m \u001b[0me\u001b[0m\u001b[0;34m:\u001b[0m\u001b[0;34m\u001b[0m\u001b[0;34m\u001b[0m\u001b[0m\n",
      "\u001b[0;31mKeyboardInterrupt\u001b[0m: "
     ]
    }
   ],
   "source": [
    "# Here we run the actual training for a maximum of MAX_EPOCHS\n",
    "# Using a 2018 Thinkpad dual-core laptop, one epoch takes ~30s\n",
    "# With a GeForce 2080Ti, one epoch takes ~2s\n",
    "\n",
    "MAX_EPOCHS = 150\n",
    "\n",
    "history = model_train.fit(train_dataset, \n",
    "                          epochs=MAX_EPOCHS, \n",
    "                          verbose=1,\n",
    "                          shuffle=True,\n",
    "                          callbacks=callbacks,\n",
    "                          validation_data=valid_dataset,\n",
    "                          validation_steps=no_valid_samples//BATCH_SIZE_VALID,\n",
    "                          steps_per_epoch=no_train_samples//BATCH_SIZE_TRAIN)"
   ]
  },
  {
   "cell_type": "code",
   "execution_count": null,
   "metadata": {},
   "outputs": [],
   "source": [
    "# finetuning tricks: do a few epochs with all data\n",
    "FINETUNING_EPOCHS = 0\n",
    "\n",
    "finetune_optimizer=Adam(learning_rate=0.001)\n",
    "model_train.compile(loss=sparse_categorical_crossentropy, optimizer=finetune_optimizer)\n",
    "\n",
    "finetuning_callbacks = [\n",
    "            # monitor the validation loss and stop training after\n",
    "            # 'patience' number of epochs during which there is\n",
    "            # no improvement whatsoever, then restore model weights\n",
    "            # from the very best epoch afterwards (epoch with the \n",
    "            # lowest validation loss\n",
    "            EarlyStopping(\n",
    "                monitor='loss',\n",
    "                min_delta=0.,\n",
    "                restore_best_weights=True,\n",
    "                patience=5,\n",
    "                verbose=1,\n",
    "                mode=\"auto\",\n",
    "            ),\n",
    "            # save model parameters to file whenever the model \n",
    "            # improves (val_loss decreases)\n",
    "            ModelCheckpoint(\n",
    "                model_weights_filename,\n",
    "                monitor='loss',\n",
    "                save_best_only=True,\n",
    "                save_weights_only=True,\n",
    "            )\n",
    "            ]\n",
    "\n",
    "if FINETUNING_EPOCHS > 0:\n",
    "    history = model_train.fit(all_dataset, \n",
    "                              epochs=FINETUNING_EPOCHS, \n",
    "                              verbose=1,\n",
    "                              shuffle=True,\n",
    "                              callbacks=finetuning_callbacks,\n",
    "                              steps_per_epoch=(no_valid_samples+no_train_samples)//BATCH_SIZE_FINETUNE)"
   ]
  },
  {
   "cell_type": "markdown",
   "metadata": {},
   "source": [
    "# prediction model"
   ]
  },
  {
   "cell_type": "code",
   "execution_count": null,
   "metadata": {},
   "outputs": [],
   "source": [
    "# the prediction model is almost identical to the training model\n",
    "# the main difference is that instead of a probability distribution\n",
    "# output, we use a sampling layer to generate future scenarios\n",
    "\n",
    "def sample_multinomial(probs):\n",
    "    \"\"\"\n",
    "    Draws a sample of length 1 from a multinomial distribution with the\n",
    "    given class probabilities.\n",
    "    \"\"\"\n",
    "\n",
    "    return tf.cast(\n",
    "        tf.expand_dims(\n",
    "            tfp.distributions.Categorical(probs=probs).sample(), axis=-1\n",
    "        ),\n",
    "        dtype=K.floatx(),\n",
    "    )\n",
    "\n",
    "# sample values from softmax multinomial distribution\n",
    "sample_layer = Lambda(sample_multinomial, name=\"sample_transactions\")"
   ]
  },
  {
   "cell_type": "code",
   "execution_count": null,
   "metadata": {},
   "outputs": [],
   "source": [
    "\"\"\" Another difference is that we use a \"stateful\" LSTM layer for prediction.\n",
    "    This layer has the exact same size as the LSTM we used in the training model,\n",
    "    hence the same number of parameters, and we will literally copy the parameters\n",
    "    over from the training model. The \"stateful\" property means that the internal\n",
    "    cell state - the \"memories\" of the layer - are kept until we explicitly delete\n",
    "    them. In trainin those are reset to 0 after each sequence is processed - we're \n",
    "    learning from independent histories, so keeping the memories doesn't make sense\n",
    "    there. In prediction however, we need a bit of fine control: we will be feeding\n",
    "    new inputs into the model step by step, so we will also be carefully managing the\n",
    "    memory content ourselves.\n",
    "\"\"\"\n",
    "\n",
    "prediction_memory_layer_A = LSTM(memory_units_A, return_sequences=True, stateful=True, name='lstm_a')\n",
    "prediction_memory_layer_B = LSTM(memory_units_B, return_sequences=True, stateful=True, name='lstm_b')"
   ]
  },
  {
   "cell_type": "code",
   "execution_count": null,
   "metadata": {},
   "outputs": [],
   "source": [
    "# we use a separate set of Input objects for prediction since the shape of \n",
    "# data is different: \n",
    "# the first dimension is the BATCH_SIZE_PRED\n",
    "# the second dimension is NONE because instead of knowing the length of the \n",
    "# sequence beforehand we want the model to accept sequences of arbitrary length\n",
    "# the last dimension is 1 (1 scalar value per timestep per feature)\n",
    "\n",
    "p_input_month = Input(batch_shape=(BATCH_SIZE_PRED, None, 1), name='month')\n",
    "p_input_week = Input(batch_shape=(BATCH_SIZE_PRED, None, 1), name='week')\n",
    "p_input_transactions = Input(batch_shape=(BATCH_SIZE_PRED, None, 1), name='transaction')\n",
    "\n",
    "# reuse the pretrained embeddings\n",
    "emb_month = embedding_month(p_input_month)\n",
    "emb_week = embedding_week(p_input_week)\n",
    "emb_trans = embedding_transactions(p_input_transactions)\n",
    "\n",
    "# squeeze out a superfluous dimension from the tensor like before\n",
    "emb_month = squeeze(emb_month)\n",
    "emb_week = squeeze(emb_week)\n",
    "emb_trans = squeeze(emb_trans)\n",
    "\n",
    "# combine embedded vectors into a single vector\n",
    "output = concat([emb_month, emb_week, emb_trans])\n",
    "\n",
    "# apply the prediction memory layer\n",
    "output = prediction_memory_layer_A(output)\n",
    "if memory_units_B > 0:\n",
    "    output = prediction_memory_layer_B(output)\n",
    "\n",
    "# feed-forward through the dense layers\n",
    "output = dense_1(output)\n",
    "if dense_units_B > 0:\n",
    "    output = dense_2(output)\n",
    "if dense_units_C > 0:\n",
    "    output = dense_3(output)\n",
    "\n",
    "# softmax layer\n",
    "output = dense_out(output)\n",
    "\n",
    "# apply final sampling layer\n",
    "output = sample_layer(output)\n",
    "\n",
    "# build the prediction model\n",
    "prediction_inputs = [p_input_month, p_input_week, p_input_transactions]\n",
    "model_pred = Model(prediction_inputs, output)"
   ]
  },
  {
   "cell_type": "code",
   "execution_count": null,
   "metadata": {},
   "outputs": [],
   "source": [
    "# the training and prediction models have the exact same number of parameters\n",
    "assert model_pred.count_params() == model_train.count_params()\n",
    "\n",
    "# check if model has already been trained\n",
    "import os.path\n",
    "\n",
    "if not os.path.exists(model_weights_filename) and os.path.isfile(model_weights_filename):\n",
    "    print('please go back and train a model first')\n",
    "\n",
    "model_pred.load_weights(model_weights_filename, by_name=True)"
   ]
  },
  {
   "cell_type": "code",
   "execution_count": null,
   "metadata": {},
   "outputs": [],
   "source": [
    "# before we can start forecasting, we feed in the entire previous history\n",
    "# for each individual, to build up the cell-state memory which represents\n",
    "# each individual past history. After we feed in the last element of the \n",
    "# training sequence, the model output will be the first forecasted value\n",
    "# for the holdout period. To make things easy, we first put all calibration\n",
    "# data into a individuals*sequence_length*number_of_features shaped tensor.\n",
    "\n",
    "seed = np.array([df.values for df in calibration], dtype=np.float32)\n",
    "seed.shape"
   ]
  },
  {
   "cell_type": "code",
   "execution_count": null,
   "metadata": {},
   "outputs": [],
   "source": [
    "no_samples = seed.shape[0]\n",
    "no_timesteps = seed.shape[1]\n",
    "no_features = seed.shape[2]\n",
    "no_batches = int(np.ceil(no_samples/BATCH_SIZE_PRED))"
   ]
  },
  {
   "cell_type": "code",
   "execution_count": null,
   "metadata": {},
   "outputs": [],
   "source": [
    "# we probably need to pad the last batch with 0s and then \n",
    "# remove the corresponding predictions after we're done predicting\n",
    "if seed.shape[0] < (BATCH_SIZE_PRED * no_batches):\n",
    "    padding = np.zeros(((BATCH_SIZE_PRED * no_batches) - no_samples, no_timesteps, no_features))\n",
    "    seed = np.concatenate((seed, padding), axis=0)\n",
    "seed.shape"
   ]
  },
  {
   "cell_type": "code",
   "execution_count": null,
   "metadata": {
    "scrolled": true
   },
   "outputs": [],
   "source": [
    "# we'll run the prediction 12 times and take the mean to increase robustness\n",
    "# best results usually achieved with 25-35 independent simulations\n",
    "NO_SCENARIOS = 12\n",
    "scenarios = []\n",
    "# how many time-steps does the holdout have\n",
    "holdout_length = holdout[0].shape[0]\n",
    "\n",
    "for _ in tqdm(range(NO_SCENARIOS), desc='predicting'):\n",
    "    batches_predicted = []\n",
    "\n",
    "    for j in range(no_batches):\n",
    "        pred = []\n",
    "        # in the beginning reset the model memory\n",
    "        model_pred.reset_states()\n",
    "        \n",
    "        # calculate batch start and end indexes\n",
    "        batch_start = j * BATCH_SIZE_PRED\n",
    "        batch_end = (j + 1) * BATCH_SIZE_PRED\n",
    "        # batch is a dictionary which links model inputs with lists of sample features\n",
    "        batch = {}        \n",
    "        batch['month'] = seed[batch_start:batch_end, :, 0:1]\n",
    "        batch['week'] = seed[batch_start:batch_end, :, 1:2]\n",
    "        batch['transaction'] = seed[batch_start:batch_end, :, 2:3]        \n",
    "        # pass the batch through the prediction model: here we discard the output\n",
    "        # since we're not interested in in-sample prediction (maybe you are?), we\n",
    "        # just need to build up that internal cell-state memory\n",
    "        prediction = model_pred.predict(batch, batch_size=BATCH_SIZE_PRED)                \n",
    "        # we do however take the very last element of each predicted sequence: \n",
    "        # as this is the first forecasted value\n",
    "        pred.append(prediction[:, -1:, :])\n",
    "\n",
    "        # now lets forecast all the future steps autoregressively\n",
    "        for i in range(holdout_length - 1):\n",
    "            batch = []\n",
    "            for calendar_feature in ['month', 'week']:                        \n",
    "                feature = np.repeat(holdout_calendar.iloc[i][calendar_feature], BATCH_SIZE_PRED)\n",
    "                batch.append(feature[:, np.newaxis, np.newaxis])\n",
    "            batch.append(pred[-1])\n",
    "            \n",
    "            prediction = model_pred.predict(batch, batch_size=BATCH_SIZE_PRED)\n",
    "            pred.append(prediction[:, -1:, :])\n",
    "            \n",
    "        batches_predicted.append(pred)\n",
    "\n",
    "    scenarios.append(batches_predicted)\n",
    "\n",
    "z = []\n",
    "for scenario in scenarios:\n",
    "    y = []\n",
    "    for batch in scenario:\n",
    "        x = []\n",
    "        for time_step in batch:\n",
    "            if type(time_step) == np.ndarray:\n",
    "                x.append(time_step)\n",
    "            else:\n",
    "                complete_time_step = np.concatenate(time_step, axis=-1)\n",
    "                x.append(complete_time_step)\n",
    "        y.append(np.concatenate(x, axis=1))\n",
    "    z.append(np.concatenate(y, axis=0)[:no_samples, :, :])\n",
    "\n",
    "predictions = np.asarray(z)"
   ]
  },
  {
   "cell_type": "code",
   "execution_count": null,
   "metadata": {},
   "outputs": [],
   "source": [
    "from functools import reduce\n",
    "calibration_aggregates = reduce(\n",
    "    lambda x, y: x.add(y, fill_value=0), [i['transactions'] for i in calibration])\n",
    "\n",
    "calibration_aggregates = calibration_aggregates.reset_index()\n",
    "\n",
    "# reuse the index from holdout for prediction\n",
    "predicted_holdout = holdout[0]\n",
    "predicted_holdout['transactions'] = np.squeeze(np.sum(np.mean(predictions, axis=0), axis=0))\n",
    "predicted_holdout = predicted_holdout['transactions'].reset_index()"
   ]
  },
  {
   "cell_type": "code",
   "execution_count": null,
   "metadata": {},
   "outputs": [],
   "source": [
    "plt.figure(figsize=(18,5))\n",
    "plt.plot(calibration_aggregates['index'],\n",
    "         calibration_aggregates['transactions'], color='black')\n",
    "plt.plot(predicted_holdout['index'],\n",
    "         predicted_holdout['transactions'], color='magenta')\n",
    "plt.show()"
   ]
  },
  {
   "cell_type": "code",
   "execution_count": null,
   "metadata": {},
   "outputs": [],
   "source": []
  }
 ],
 "metadata": {
  "kernelspec": {
   "display_name": "Python 3",
   "language": "python",
   "name": "python3"
  },
  "language_info": {
   "codemirror_mode": {
    "name": "ipython",
    "version": 3
   },
   "file_extension": ".py",
   "mimetype": "text/x-python",
   "name": "python",
   "nbconvert_exporter": "python",
   "pygments_lexer": "ipython3",
   "version": "3.8.3"
  }
 },
 "nbformat": 4,
 "nbformat_minor": 4
}
